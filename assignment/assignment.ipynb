{
  "cells": [
    {
      "cell_type": "markdown",
      "metadata": {},
      "source": [
        "# Site EM Lab Assignment"
      ]
    },
    {
      "cell_type": "markdown",
      "metadata": {},
      "source": [
        "## Introduction\n\nIn this lab you will implement the expectation maximization part of the MEME+\nalgorithm described by Bailey and Elkan in their technical report titled\n[\"Fitting a Mixture Model by Expectation Maximization to Discover Motifs in BioPolymers.\"](https://cdn.aaai.org/ISMB/1994/ISMB94-004.pdf)\n\nThe outer loops, initialization, and the various \"hacks\" they added to the basic\nEM model are provided for you, so you can focus on the EM part. However, it is\nstill the most code you've had to write so far, by a significant amount."
      ]
    },
    {
      "cell_type": "markdown",
      "metadata": {},
      "source": [
        "\n## Files\n\nAs with the previous assignments, you will be asked to write code in\n[assignment/assignment.py](assignment.py). The sections where you need to\nwrite code are identified, as they have been in the past, with\n`raise NotImplementedError`.\n\nThere are also some additional files and directories in this assignment that\ndid not exist in previous assigments:\n\n- test data is provided in [assignment/data](data)\n\n- The Bailey and Elkan hacks, and some other convenience functions which you\nwill not be asked to implemented, are in [assignment/utils](utils).\n\n- [assignment/__main__.py](__main__.py) provides a module entry point\nwhich allows you to run the code in the package as a script.\n\n## Running the code in a notebook\n\nBy including the right import statements in a notebook cell, you can\ncall `siteEM_initializer` and/or `siteEM` in a notebook. You can use \n[assignment/test_assignment.py](test_assignment.py) as a guide for how to do this."
      ]
    },
    {
      "cell_type": "markdown",
      "metadata": {},
      "source": [
        "## Data representations\n\n### Input list of sequences\n\nThe sequences passed to the site EM algorithm are represented as lists of\nnucleotides. The nucleotides are represented by the integers 0, 1, 2, 3 with\nthe following mapping:\n\n```raw\nA <-> 0\nC <-> 1\nG <-> 2\nT <-> 3\n```\n\nYou should use these as indices into the probability frequency matrix (PFM).\n\nThe total input is a list of sequences, where each sequence is a list of integers."
      ]
    },
    {
      "cell_type": "markdown",
      "metadata": {},
      "source": [
        "### Model parameters\n\nThe parameters related to the motif for which we search which are passed to the\nsite EM algorithm are stored in a\n[SequenceModel](https://cse587a.github.io/cse587Autils/SequenceObjects/API/SequenceModel.html)\nobject. Briefly, this object stores the prior probability (`site_prior`) of \nobserving a motif in a sequence, and the complement, `background_prior`, which\nis the probability of observing a non-motif sequence that is generated from a \nbackground distribution on nucleotides. A `SequenceModel` object also stores \nPosition Frequency Matricies (PFMs) for the motif and the background distribution.\n\n- The motif PFM, stored in the attribute `site_base_probs` is represented as a\nlist of list where each sublist is length 4 with indicies corresponding to the\nnucleotide mapping above. Each sublist represents a position (typically called a\ncolumn based on the way PFM are commonly visualized) in the motif and describes\nthe relative frequency of each nucleotide at that position.\n\n- The background PFM, stored in the attribute `background_base_probs` is a\nsingle list of length 4 where each index corresponds to the nucleotide mapping\nabove. This PFM describes the relative frequency of each nucleotide in the\nbackground. This is assumed to be the same for all positions in the motif."
      ]
    },
    {
      "cell_type": "markdown",
      "metadata": {},
      "source": [
        "### Posteriors and erasers\n\n- The purpose of the `e_step()` is to calculate the **posteriors**.\nThis is important: The posterior probability of a motif of length motif_length\nstarting at each position in a single input sequence is represented as a numpy \narray with length sequence_length - motif_length + 1. In the code, this is\nsometimes call a `posteriors_row` The posteriors for the \nentire input is a list of these. The kth posterior in a `posteriors_row` is the \nposterior probability for the sequence from k to k + motif_length - 1, inclusive. \nIn this implementation, each posteriors row is normalized so the probabilities\nsome to one, corresponding to the assumption of one motif occurrence per input\nsequence. Some of the Bailey and Elkan papers specify an alternative normalization\nwhere the user supplies an expected number of motif occurrences in the entire\ninput and the posterior probabilities are normalized so they sum to that number\nacross the entire input.\n\n- Erasers is a list of numpy arrays with the same dimensions as input. The \nentries are initialized to 1 and  may have any value between 0 and 1, inclusive. \nThey are multiplicative factors that reduce the\nexpected counts of letters. Let  m be the number of the  PFM column under\nconsideration. If letter k occurs in position i+m-1 of sequence j, it would\nnormally contribute posteriors[i, j] to the expected to the expected count for\nletter k in column m of the PFM. With erasers, it will contribute posteriors[i,\nj] * erasers[i, j+m-1]. Bailey and Elkan are not very clear about this and \ndifferent papers suggest different ways of doing it. Eraser updates are calculated\nfor you but you will need to use the eraser values to modify the expected counts\nas above."
      ]
    },
    {
      "cell_type": "markdown",
      "metadata": {},
      "source": [
        "### Return values\nThe top level function, `siteEM_initializer`, returns list of pairs, each pair\nbeing the result of searching for one motif \n```\n[(motif1_posteriors, motif1_sequence_model),\n...\n (motifn_posteriors, motifn_sequence_model)]\n```\nThe posteriors are provided for debugging convenience -- usually you will just\nlook at the sequence model. Even when only one motif is requested, it will be \nreturned in a list containing only one pair.\n\nThe most likely single sequence can be printed out by calling `consensus_pfm` from\nthe utils directory.\n\nIn general, it is worth looking at the tests carefully to see which modules need\nto be imported, how the functions in the codebase are called, and what they're \nexpected to return before you start coding."
      ]
    },
    {
      "cell_type": "markdown",
      "metadata": {},
      "source": [
        "## Questions\nPlease answer the following questions in a new cell below the question. Don't start this part until your code passes all the tests provided. You may have to instrument your code a little to get these answers out. If so, retest to make sure your code still passes all the tests.\n\n1. **Convergence.** Using the sequence file smallTest.fasta, how many iterations does it take make MM to converge with accuracy 0.01 and no effective limit on the number of iterations? Use `MM[\"smallTest.fasta\", 4, 0.01, 1000, .01]`."
      ]
    },
    {
      "cell_type": "code",
      "execution_count": null,
      "metadata": {},
      "outputs": [],
      "source": [
        "from importlib.resources import path\n",
        "from importlib import reload\n",
        "import assignment.assignment as assign\n",
        "reload(assign) # This ensures code is reloaded each time\n",
        "from assignment.assignment import siteEM_intializer\n",
        "with path('assignment.data', 'smallTest.fasta') as small_fasta_path:\n",
        "            fasta_path = small_fasta_path\n",
        "siteEM_intializer(fasta_path, 4, 0.01,\n",
        "                  max_iterations=1000,\n",
        "                  accuracy=0.01,\n",
        "                  num_motifs_to_find=1,\n",
        "                  site_base_probs_seed=42)"
      ]
    },
    {
      "cell_type": "markdown",
      "metadata": {},
      "source": [
        "2. **Dependence on initialization.** Using the sequence file smallTest.fasta with motif width 4, max iterations 100, and accuracy 0.01, run siteEM_initializer 10 times in a loop with seed=0 to 9. How many different consensus motifs did you get? If you got more than one, how similar were they?"
      ]
    },
    {
      "cell_type": "code",
      "execution_count": null,
      "metadata": {},
      "outputs": [],
      "source": [
        "from importlib.resources import path\n",
        "from importlib import reload\n",
        "import assignment.assignment as assign\n",
        "reload(assign) # This ensures code is reloaded each time\n",
        "from assignment.assignment import siteEM_intializer\n",
        "from assignment.utils import consensus_pfm\n",
        "with path('assignment.data', 'smallTest.fasta') as small_fasta_path:\n",
        "            fasta_path = small_fasta_path\n",
        "for seed in range(10):\n",
        "    results =siteEM_intializer(fasta_path, 4, 0.01,\n",
        "                                max_iterations=1000,\n",
        "                                accuracy=0.01,\n",
        "                                num_motifs_to_find=1,\n",
        "                                site_base_probs_seed=seed)\n",
        "#    print(results[0][1])\n",
        "#    print(\"reinitialize\")\n",
        "    print(consensus_pfm(results[0][1].site_base_probs))\n",
        "#    print(consensus_pfm(results[1][1].site_base_probs))"
      ]
    },
    {
      "cell_type": "markdown",
      "metadata": {},
      "source": [
        "Several diffent motifs are found: TGTG 4 times, GTGA 3 times, ATGC twice, ATGA once. They don't seem particularly similar to each other except the first two have GT's and the last two start with ATG."
      ]
    },
    {
      "cell_type": "markdown",
      "metadata": {},
      "source": [
        "3. **Comparison to the online MEME on real promoters.** There is a very fancy and heavily engineered MEME implementation available online at [http://meme-suite.org/tools/meme](http://meme-suite.org/tools/meme). The file PACPlusSeqs.fasta contains segments of the promoters of yeast genes most which encode ribosomal proteins. They are admittedly carefully chose, and these segments (between 100 and 300 bp upstream of the start codon) are known to contain most of the instances of the PAC motif.\n\n   3.1. First, run your code on the provided sequence file PACPlusSeqs.fasta in the directory Testing. Use motif width 8, accuracy 0.01, and maximum iterations 100, True for includeReverseStrand, and 3 for numMotifsToFind. This may take about 5 minutes to run. If it runs for more than 30 minutes either you have an ancient computer or there is something wrong with your implementation. Examine your 3 outputs, first looking at the consensus (most probable base in each position) and then using prettyPrintPFM to look at the actual numbers.\n\n   3.2. Now go to the MEME web site, upload the sequence file, change expected frequency to \"one occurrence per sequence\", number of motifs to 3, and under \"Advanced Options\" select \"Search given strand only\" and min and max motif widths both 8. Submit your job and wait a couple of minutes for the results to come up.\n   \n   3.3. How do your top 3 motifs compare to the top 3 found by the online implementation? Please consider which of the motifs are similar to each other, how similar they are, and how similar motifs were ranked among the 3 output by MEME and the 3 output by your code."
      ]
    },
    {
      "cell_type": "code",
      "execution_count": null,
      "metadata": {},
      "outputs": [],
      "source": [
        "from importlib.resources import path\n",
        "from importlib import reload\n",
        "import assignment.assignment as assign\n",
        "reload(assign) # This ensures code is reloaded each time\n",
        "from assignment.assignment import siteEM_intializer\n",
        "with path('assignment.data', 'PACPlusSeqs.fasta') as small_fasta_path:\n",
        "            fasta_path = small_fasta_path\n",
        "results = siteEM_intializer(fasta_path, 8, 0.01,\n",
        "                  max_iterations=200,\n",
        "                  accuracy=0.01,\n",
        "                  num_motifs_to_find=3,\n",
        "                  site_base_probs_seed=42)\n",
        "for result in results:\n",
        "        print(consensus_pfm(result[1].site_base_probs))"
      ]
    },
    {
      "cell_type": "markdown",
      "metadata": {},
      "source": [
        "Comment: \n- The first motif found is similar to the second one found by MEME web server -- TTAAAAAA vs. AAAATTTT -- with the 4 As and a run of T's -- this probably comes from have a lot of AT rich sequences in the input.\n- The 2nd motif is similar to the first one found by MEME web server -- GCTCATCG vs CTCATCGC - having a central 7 letters in common. \n- The MEME web server's 3rd motif was far from significant. Although we did not test significance, it is likely that ours is, too."
      ]
    },
    {
      "cell_type": "markdown",
      "metadata": {},
      "source": [
        "## sitePosterior\n\nThis assignment makes use of `sitePosterior()`, which you wrote for the previous\nassignment. We can also provide this if you're not confident of your\nimplementation. Write to the TAs."
      ]
    },
    {
      "cell_type": "markdown",
      "metadata": {},
      "source": [
        "## Optional: Running from the command line.\n\nYou don't need to do this for this assignment, but if you are interested, once \nyou have completed the assignments and all of the tests are passing, you can \ninstall the package in editable mode with:\n\n\n```python\npoetry run python -m pip install -e .\n```\n\nIf this is successful, you should be able to run the script with:\n\n```python\npoetry run python -m assignment --help\n```\n\nwhich will display a helpful dialogue on what parameters you may pass to the\nscript to execute siteEM on a FASTA file of your choice. For example, a\ncommand to run siteEM on the PACPlusSeqs.fasta file with a motif_length of 8,\nan accuracy threshold of 0.01, 100 iterations, 3 motifs, to write to a file\nin the current working directory named pac_test.txt, and to include the\nreverse complement of the sequences in the analysis would be:\n\n```python\npoetry run python -m assignment -f assignment/data/PACPlusSeqs.fasta -m 8 -a 0.01 -i 100 -n 3 -o pac_test.txt -r\n```"
      ]
    }
  ],
  "metadata": {
    "kernelspec": {
      "display_name": "Python 3",
      "language": "python",
      "name": "python3"
    },
    "language_info": {
      "codemirror_mode": {
        "name": "ipython",
        "version": 3
      },
      "file_extension": ".py",
      "mimetype": "text/x-python",
      "name": "python",
      "nbconvert_exporter": "python",
      "pygments_lexer": "ipython3",
      "version": "3.8.5"
    }
  },
  "nbformat": 4,
  "nbformat_minor": 4
}
